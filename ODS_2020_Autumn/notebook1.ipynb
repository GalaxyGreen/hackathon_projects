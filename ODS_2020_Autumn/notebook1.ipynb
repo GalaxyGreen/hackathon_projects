{
  "nbformat": 4,
  "nbformat_minor": 0,
  "metadata": {
    "colab": {
      "name": "Untitled4.ipynb",
      "provenance": [],
      "collapsed_sections": [],
      "toc_visible": true
    },
    "kernelspec": {
      "name": "python3",
      "display_name": "Python 3"
    },
    "accelerator": "GPU"
  },
  "cells": [
    {
      "cell_type": "code",
      "metadata": {
        "id": "JohPzfeFpmZQ"
      },
      "source": [
        "import pandas as pd\n",
        "import numpy as np\n",
        "import tensorflow as tf"
      ],
      "execution_count": 179,
      "outputs": []
    },
    {
      "cell_type": "code",
      "metadata": {
        "id": "Cp3v5Mm1p2XE"
      },
      "source": [
        "from tensorflow.keras.preprocessing.text import Tokenizer\n",
        "from tensorflow.keras.preprocessing.sequence import pad_sequences\n",
        "from tensorflow.keras.layers import LSTM\n",
        "from tensorflow.keras import regularizers"
      ],
      "execution_count": 180,
      "outputs": []
    },
    {
      "cell_type": "code",
      "metadata": {
        "id": "fmcVqxd4sx0R"
      },
      "source": [
        "with open('dataset.txt', 'r') as file:\n",
        "  data = file.read()\n",
        "corpus = data.lower().split('\\n')"
      ],
      "execution_count": 181,
      "outputs": []
    },
    {
      "cell_type": "code",
      "metadata": {
        "id": "XC7o_gCfywzv"
      },
      "source": [
        "tokenizer = Tokenizer()\n",
        "tokenizer.fit_on_texts(corpus)"
      ],
      "execution_count": 86,
      "outputs": []
    },
    {
      "cell_type": "code",
      "metadata": {
        "id": "dPRRemmVd7Ur"
      },
      "source": [
        "total_words = len(tokenizer.word_index) + 1\n",
        "embedding_dim = 100"
      ],
      "execution_count": 87,
      "outputs": []
    },
    {
      "cell_type": "code",
      "metadata": {
        "id": "rg6duEfvMIzv"
      },
      "source": [
        "# Creating n_grams and adding them to input_seq array\n",
        "input_sequences = []\n",
        "for line in corpus:\n",
        "  token_list = tokenizer.texts_to_sequences([line])[0]\n",
        "  for i in range(len(token_list)):\n",
        "    n_gram_seq = token_list[:i+1]\n",
        "    input_sequences.append(n_gram_seq)"
      ],
      "execution_count": 88,
      "outputs": []
    },
    {
      "cell_type": "code",
      "metadata": {
        "id": "NqAvBk6vNMhE"
      },
      "source": [
        "# Adding padding\n",
        "max_seq_len = max([len(x) for x in input_sequences])\n",
        "input_sequences = np.array(pad_sequences(input_sequences, maxlen=max_seq_len, padding='pre'))"
      ],
      "execution_count": 89,
      "outputs": []
    },
    {
      "cell_type": "code",
      "metadata": {
        "id": "Wl2b_xnBTMyi",
        "outputId": "9f0edcb0-12cf-43e6-ae1a-4855000d6daf",
        "colab": {
          "base_uri": "https://localhost:8080/",
          "height": 34
        }
      },
      "source": [
        "max_seq_len"
      ],
      "execution_count": 90,
      "outputs": [
        {
          "output_type": "execute_result",
          "data": {
            "text/plain": [
              "364"
            ]
          },
          "metadata": {
            "tags": []
          },
          "execution_count": 90
        }
      ]
    },
    {
      "cell_type": "code",
      "metadata": {
        "id": "SonOOpE2Txvv"
      },
      "source": [
        "#Defining train X and Y\n",
        "train_X = input_sequences[:, :-1]\n",
        "train_y = input_sequences[:, -1]\n",
        "train_y = tf.keras.utils.to_categorical(train_y, num_classes=total_words)"
      ],
      "execution_count": 91,
      "outputs": []
    },
    {
      "cell_type": "code",
      "metadata": {
        "id": "LTNqBwKyxqHu",
        "outputId": "6428d84d-088c-4847-f6c5-d04a4db93a93",
        "colab": {
          "base_uri": "https://localhost:8080/",
          "height": 34
        }
      },
      "source": [
        "train_X.shape"
      ],
      "execution_count": 92,
      "outputs": [
        {
          "output_type": "execute_result",
          "data": {
            "text/plain": [
              "(15146, 363)"
            ]
          },
          "metadata": {
            "tags": []
          },
          "execution_count": 92
        }
      ]
    },
    {
      "cell_type": "code",
      "metadata": {
        "id": "0j6xnDvmxrP8",
        "outputId": "d4a0449b-a5a2-4a72-f2b8-83fc3c68e377",
        "colab": {
          "base_uri": "https://localhost:8080/",
          "height": 34
        }
      },
      "source": [
        "train_y.shape"
      ],
      "execution_count": 93,
      "outputs": [
        {
          "output_type": "execute_result",
          "data": {
            "text/plain": [
              "(15146, 4011)"
            ]
          },
          "metadata": {
            "tags": []
          },
          "execution_count": 93
        }
      ]
    },
    {
      "cell_type": "code",
      "metadata": {
        "id": "tRZN5EAaT5Ip"
      },
      "source": [
        "model = tf.keras.Sequential([\n",
        "    tf.keras.layers.Embedding(total_words, embedding_dim, input_length=max_seq_len-1),\n",
        "    tf.keras.layers.Bidirectional(LSTM(150, return_sequences='True')),\n",
        "    tf.keras.layers.Dropout(rate=0.3),\n",
        "    tf.keras.layers.Bidirectional(LSTM(embedding_dim)),\n",
        "    tf.keras.layers.Dropout(0.3),\n",
        "    tf.keras.layers.Dense(total_words/2, activation='relu'),\n",
        "    tf.keras.layers.Dense(total_words, activation='softmax')\n",
        "])"
      ],
      "execution_count": 97,
      "outputs": []
    },
    {
      "cell_type": "code",
      "metadata": {
        "id": "NSi0EhUpmB3R"
      },
      "source": [
        "model.compile(loss='categorical_crossentropy', optimizer='adam', metrics=['accuracy'])"
      ],
      "execution_count": 98,
      "outputs": []
    },
    {
      "cell_type": "code",
      "metadata": {
        "id": "mxq_kg3PmOIH",
        "outputId": "b833abd4-597e-4e88-df26-23d9702ee485",
        "colab": {
          "base_uri": "https://localhost:8080/",
          "height": 1000
        }
      },
      "source": [
        "history = model.fit(train_X, train_y, epochs=110, verbose=1)"
      ],
      "execution_count": 100,
      "outputs": [
        {
          "output_type": "stream",
          "text": [
            "Epoch 1/110\n",
            "474/474 [==============================] - 37s 77ms/step - loss: 6.4911 - accuracy: 0.0500\n",
            "Epoch 2/110\n",
            "474/474 [==============================] - 36s 77ms/step - loss: 6.3246 - accuracy: 0.0508\n",
            "Epoch 3/110\n",
            "474/474 [==============================] - 36s 76ms/step - loss: 6.1465 - accuracy: 0.0586\n",
            "Epoch 4/110\n",
            "474/474 [==============================] - 36s 76ms/step - loss: 5.9670 - accuracy: 0.0633\n",
            "Epoch 5/110\n",
            "474/474 [==============================] - 36s 76ms/step - loss: 5.7879 - accuracy: 0.0707\n",
            "Epoch 6/110\n",
            "474/474 [==============================] - 36s 76ms/step - loss: 5.6134 - accuracy: 0.0785\n",
            "Epoch 7/110\n",
            "474/474 [==============================] - 36s 76ms/step - loss: 5.4346 - accuracy: 0.0835\n",
            "Epoch 8/110\n",
            "474/474 [==============================] - 36s 76ms/step - loss: 5.2539 - accuracy: 0.0955\n",
            "Epoch 9/110\n",
            "474/474 [==============================] - 36s 76ms/step - loss: 5.0607 - accuracy: 0.1059\n",
            "Epoch 10/110\n",
            "474/474 [==============================] - 36s 76ms/step - loss: 4.8988 - accuracy: 0.1104\n",
            "Epoch 11/110\n",
            "474/474 [==============================] - 36s 76ms/step - loss: 4.7291 - accuracy: 0.1150\n",
            "Epoch 12/110\n",
            "474/474 [==============================] - 36s 76ms/step - loss: 4.5603 - accuracy: 0.1229\n",
            "Epoch 13/110\n",
            "474/474 [==============================] - 36s 76ms/step - loss: 4.3916 - accuracy: 0.1374\n",
            "Epoch 14/110\n",
            "474/474 [==============================] - 36s 76ms/step - loss: 4.2423 - accuracy: 0.1490\n",
            "Epoch 15/110\n",
            "474/474 [==============================] - 36s 76ms/step - loss: 4.1021 - accuracy: 0.1653\n",
            "Epoch 16/110\n",
            "474/474 [==============================] - 36s 75ms/step - loss: 3.9575 - accuracy: 0.1745\n",
            "Epoch 17/110\n",
            "474/474 [==============================] - 36s 75ms/step - loss: 3.8187 - accuracy: 0.1882\n",
            "Epoch 18/110\n",
            "474/474 [==============================] - 36s 75ms/step - loss: 3.7003 - accuracy: 0.2069\n",
            "Epoch 19/110\n",
            "474/474 [==============================] - 36s 75ms/step - loss: 3.5769 - accuracy: 0.2257\n",
            "Epoch 20/110\n",
            "474/474 [==============================] - 36s 75ms/step - loss: 3.4525 - accuracy: 0.2448\n",
            "Epoch 21/110\n",
            "474/474 [==============================] - 36s 75ms/step - loss: 3.3409 - accuracy: 0.2576\n",
            "Epoch 22/110\n",
            "474/474 [==============================] - 36s 75ms/step - loss: 3.2258 - accuracy: 0.2791\n",
            "Epoch 23/110\n",
            "474/474 [==============================] - 36s 76ms/step - loss: 3.1167 - accuracy: 0.2927\n",
            "Epoch 24/110\n",
            "474/474 [==============================] - 36s 76ms/step - loss: 3.0286 - accuracy: 0.3135\n",
            "Epoch 25/110\n",
            "474/474 [==============================] - 36s 76ms/step - loss: 2.9442 - accuracy: 0.3273\n",
            "Epoch 26/110\n",
            "474/474 [==============================] - 36s 76ms/step - loss: 2.8466 - accuracy: 0.3456\n",
            "Epoch 27/110\n",
            "474/474 [==============================] - 36s 76ms/step - loss: 2.7513 - accuracy: 0.3615\n",
            "Epoch 28/110\n",
            "474/474 [==============================] - 36s 75ms/step - loss: 2.6776 - accuracy: 0.3728\n",
            "Epoch 29/110\n",
            "474/474 [==============================] - 36s 76ms/step - loss: 2.5758 - accuracy: 0.3969\n",
            "Epoch 30/110\n",
            "474/474 [==============================] - 36s 76ms/step - loss: 2.5096 - accuracy: 0.4063\n",
            "Epoch 31/110\n",
            "474/474 [==============================] - 36s 75ms/step - loss: 2.4253 - accuracy: 0.4274\n",
            "Epoch 32/110\n",
            "474/474 [==============================] - 36s 75ms/step - loss: 2.3618 - accuracy: 0.4362\n",
            "Epoch 33/110\n",
            "474/474 [==============================] - 36s 75ms/step - loss: 2.2884 - accuracy: 0.4553\n",
            "Epoch 34/110\n",
            "474/474 [==============================] - 36s 76ms/step - loss: 2.2253 - accuracy: 0.4688\n",
            "Epoch 35/110\n",
            "474/474 [==============================] - 36s 75ms/step - loss: 2.1709 - accuracy: 0.4735\n",
            "Epoch 36/110\n",
            "474/474 [==============================] - 36s 75ms/step - loss: 2.1040 - accuracy: 0.4910\n",
            "Epoch 37/110\n",
            "474/474 [==============================] - 36s 75ms/step - loss: 2.0547 - accuracy: 0.5035\n",
            "Epoch 38/110\n",
            "474/474 [==============================] - 36s 76ms/step - loss: 1.9829 - accuracy: 0.5180\n",
            "Epoch 39/110\n",
            "474/474 [==============================] - 36s 76ms/step - loss: 1.9420 - accuracy: 0.5314\n",
            "Epoch 40/110\n",
            "474/474 [==============================] - 36s 75ms/step - loss: 1.8696 - accuracy: 0.5430\n",
            "Epoch 41/110\n",
            "474/474 [==============================] - 36s 75ms/step - loss: 1.8392 - accuracy: 0.5484\n",
            "Epoch 42/110\n",
            "474/474 [==============================] - 36s 75ms/step - loss: 1.7863 - accuracy: 0.5653\n",
            "Epoch 43/110\n",
            "474/474 [==============================] - 35s 75ms/step - loss: 1.7301 - accuracy: 0.5731\n",
            "Epoch 44/110\n",
            "474/474 [==============================] - 35s 75ms/step - loss: 1.6834 - accuracy: 0.5901\n",
            "Epoch 45/110\n",
            "474/474 [==============================] - 35s 75ms/step - loss: 1.6796 - accuracy: 0.5920\n",
            "Epoch 46/110\n",
            "474/474 [==============================] - 36s 75ms/step - loss: 1.6033 - accuracy: 0.6068\n",
            "Epoch 47/110\n",
            "474/474 [==============================] - 35s 75ms/step - loss: 1.5731 - accuracy: 0.6111\n",
            "Epoch 48/110\n",
            "474/474 [==============================] - 36s 75ms/step - loss: 1.5499 - accuracy: 0.6185\n",
            "Epoch 49/110\n",
            "474/474 [==============================] - 36s 75ms/step - loss: 1.5016 - accuracy: 0.6285\n",
            "Epoch 50/110\n",
            "474/474 [==============================] - 36s 75ms/step - loss: 1.4623 - accuracy: 0.6402\n",
            "Epoch 51/110\n",
            "474/474 [==============================] - 36s 75ms/step - loss: 1.4422 - accuracy: 0.6490\n",
            "Epoch 52/110\n",
            "474/474 [==============================] - 36s 75ms/step - loss: 1.4133 - accuracy: 0.6495\n",
            "Epoch 53/110\n",
            "474/474 [==============================] - 36s 76ms/step - loss: 1.3833 - accuracy: 0.6594\n",
            "Epoch 54/110\n",
            "474/474 [==============================] - 35s 75ms/step - loss: 1.3409 - accuracy: 0.6729\n",
            "Epoch 55/110\n",
            "474/474 [==============================] - 36s 75ms/step - loss: 1.3213 - accuracy: 0.6730\n",
            "Epoch 56/110\n",
            "474/474 [==============================] - 36s 75ms/step - loss: 1.3191 - accuracy: 0.6770\n",
            "Epoch 57/110\n",
            "474/474 [==============================] - 36s 76ms/step - loss: 1.2807 - accuracy: 0.6882\n",
            "Epoch 58/110\n",
            "474/474 [==============================] - 36s 76ms/step - loss: 1.2569 - accuracy: 0.6909\n",
            "Epoch 59/110\n",
            "474/474 [==============================] - 36s 75ms/step - loss: 1.2282 - accuracy: 0.7016\n",
            "Epoch 60/110\n",
            "474/474 [==============================] - 36s 75ms/step - loss: 1.2151 - accuracy: 0.7030\n",
            "Epoch 61/110\n",
            "474/474 [==============================] - 36s 76ms/step - loss: 1.1941 - accuracy: 0.7102\n",
            "Epoch 62/110\n",
            "474/474 [==============================] - 36s 75ms/step - loss: 1.1727 - accuracy: 0.7141\n",
            "Epoch 63/110\n",
            "474/474 [==============================] - 36s 76ms/step - loss: 1.1614 - accuracy: 0.7181\n",
            "Epoch 64/110\n",
            "474/474 [==============================] - 36s 75ms/step - loss: 1.1548 - accuracy: 0.7199\n",
            "Epoch 65/110\n",
            "474/474 [==============================] - 36s 75ms/step - loss: 1.1194 - accuracy: 0.7296\n",
            "Epoch 66/110\n",
            "474/474 [==============================] - 36s 76ms/step - loss: 1.1012 - accuracy: 0.7364\n",
            "Epoch 67/110\n",
            "474/474 [==============================] - 36s 77ms/step - loss: 1.0962 - accuracy: 0.7319\n",
            "Epoch 68/110\n",
            "474/474 [==============================] - 36s 77ms/step - loss: 1.0983 - accuracy: 0.7355\n",
            "Epoch 69/110\n",
            "474/474 [==============================] - 36s 77ms/step - loss: 1.0701 - accuracy: 0.7446\n",
            "Epoch 70/110\n",
            "474/474 [==============================] - 37s 77ms/step - loss: 1.0502 - accuracy: 0.7478\n",
            "Epoch 71/110\n",
            "474/474 [==============================] - 36s 77ms/step - loss: 1.0481 - accuracy: 0.7505\n",
            "Epoch 72/110\n",
            "474/474 [==============================] - 37s 77ms/step - loss: 1.0321 - accuracy: 0.7525\n",
            "Epoch 73/110\n",
            "474/474 [==============================] - 37s 77ms/step - loss: 1.0099 - accuracy: 0.7595\n",
            "Epoch 74/110\n",
            "474/474 [==============================] - 36s 76ms/step - loss: 1.0113 - accuracy: 0.7603\n",
            "Epoch 75/110\n",
            "474/474 [==============================] - 36s 77ms/step - loss: 0.9920 - accuracy: 0.7615\n",
            "Epoch 76/110\n",
            "474/474 [==============================] - 36s 77ms/step - loss: 0.9879 - accuracy: 0.7641\n",
            "Epoch 77/110\n",
            "474/474 [==============================] - 36s 76ms/step - loss: 0.9746 - accuracy: 0.7678\n",
            "Epoch 78/110\n",
            "474/474 [==============================] - 36s 76ms/step - loss: 0.9723 - accuracy: 0.7678\n",
            "Epoch 79/110\n",
            "474/474 [==============================] - 36s 76ms/step - loss: 0.9741 - accuracy: 0.7702\n",
            "Epoch 80/110\n",
            "474/474 [==============================] - 36s 76ms/step - loss: 0.9603 - accuracy: 0.7715\n",
            "Epoch 81/110\n",
            "474/474 [==============================] - 36s 77ms/step - loss: 0.9653 - accuracy: 0.7699\n",
            "Epoch 82/110\n",
            "474/474 [==============================] - 36s 76ms/step - loss: 0.9450 - accuracy: 0.7755\n",
            "Epoch 83/110\n",
            "474/474 [==============================] - 36s 76ms/step - loss: 0.9354 - accuracy: 0.7807\n",
            "Epoch 84/110\n",
            "474/474 [==============================] - 36s 77ms/step - loss: 0.9284 - accuracy: 0.7818\n",
            "Epoch 85/110\n",
            "474/474 [==============================] - 36s 77ms/step - loss: 0.9265 - accuracy: 0.7817\n",
            "Epoch 86/110\n",
            "474/474 [==============================] - 36s 77ms/step - loss: 0.9126 - accuracy: 0.7817\n",
            "Epoch 87/110\n",
            "474/474 [==============================] - 36s 76ms/step - loss: 0.9185 - accuracy: 0.7826\n",
            "Epoch 88/110\n",
            "474/474 [==============================] - 36s 76ms/step - loss: 0.9193 - accuracy: 0.7831\n",
            "Epoch 89/110\n",
            "474/474 [==============================] - 36s 76ms/step - loss: 0.9016 - accuracy: 0.7888\n",
            "Epoch 90/110\n",
            "474/474 [==============================] - 36s 77ms/step - loss: 0.8836 - accuracy: 0.7922\n",
            "Epoch 91/110\n",
            "474/474 [==============================] - 36s 77ms/step - loss: 0.8880 - accuracy: 0.7908\n",
            "Epoch 92/110\n",
            "474/474 [==============================] - 36s 77ms/step - loss: 0.8725 - accuracy: 0.7927\n",
            "Epoch 93/110\n",
            "474/474 [==============================] - 36s 77ms/step - loss: 0.8871 - accuracy: 0.7935\n",
            "Epoch 94/110\n",
            "474/474 [==============================] - 36s 76ms/step - loss: 0.8662 - accuracy: 0.7958\n",
            "Epoch 95/110\n",
            "474/474 [==============================] - 36s 76ms/step - loss: 0.8574 - accuracy: 0.8030\n",
            "Epoch 96/110\n",
            "474/474 [==============================] - 36s 77ms/step - loss: 0.8616 - accuracy: 0.7980\n",
            "Epoch 97/110\n",
            "474/474 [==============================] - 36s 77ms/step - loss: 0.8473 - accuracy: 0.8014\n",
            "Epoch 98/110\n",
            "474/474 [==============================] - 36s 76ms/step - loss: 0.8579 - accuracy: 0.7984\n",
            "Epoch 99/110\n",
            "474/474 [==============================] - 36s 77ms/step - loss: 0.8644 - accuracy: 0.7980\n",
            "Epoch 100/110\n",
            "474/474 [==============================] - 36s 77ms/step - loss: 0.8615 - accuracy: 0.7986\n",
            "Epoch 101/110\n",
            "474/474 [==============================] - 36s 77ms/step - loss: 0.8470 - accuracy: 0.8015\n",
            "Epoch 102/110\n",
            "474/474 [==============================] - 36s 77ms/step - loss: 0.8511 - accuracy: 0.7994\n",
            "Epoch 103/110\n",
            "474/474 [==============================] - 36s 77ms/step - loss: 0.8351 - accuracy: 0.8075\n",
            "Epoch 104/110\n",
            "474/474 [==============================] - 36s 77ms/step - loss: 0.8344 - accuracy: 0.8057\n",
            "Epoch 105/110\n",
            "474/474 [==============================] - 37s 77ms/step - loss: 0.8188 - accuracy: 0.8103\n",
            "Epoch 106/110\n",
            "474/474 [==============================] - 36s 77ms/step - loss: 0.8215 - accuracy: 0.8067\n",
            "Epoch 107/110\n",
            "474/474 [==============================] - 36s 77ms/step - loss: 0.8391 - accuracy: 0.8070\n",
            "Epoch 108/110\n",
            "474/474 [==============================] - 36s 76ms/step - loss: 0.8229 - accuracy: 0.8084\n",
            "Epoch 109/110\n",
            "474/474 [==============================] - 36s 76ms/step - loss: 0.8235 - accuracy: 0.8073\n",
            "Epoch 110/110\n",
            "474/474 [==============================] - 36s 75ms/step - loss: 0.8098 - accuracy: 0.8138\n"
          ],
          "name": "stdout"
        }
      ]
    },
    {
      "cell_type": "code",
      "metadata": {
        "id": "hJgWkeJXmv1l",
        "outputId": "d6b0fa40-13ad-48bc-ec83-456d71c0b941",
        "colab": {
          "base_uri": "https://localhost:8080/",
          "height": 545
        }
      },
      "source": [
        "import matplotlib.pyplot as plt\n",
        "acc = history.history['accuracy']\n",
        "loss = history.history['loss']\n",
        "\n",
        "epochs = range(len(acc))\n",
        "\n",
        "plt.plot(epochs, acc, 'b', label='Training accuracy')\n",
        "plt.title('Training accuracy')\n",
        "\n",
        "plt.figure()\n",
        "\n",
        "plt.plot(epochs, loss, 'b', label='Training Loss')\n",
        "plt.title('Training loss')\n",
        "plt.legend()\n",
        "\n",
        "plt.show()"
      ],
      "execution_count": 101,
      "outputs": [
        {
          "output_type": "display_data",
          "data": {
            "image/png": "[encoded data removed]",
            "text/plain": [
              "<Figure size 432x288 with 1 Axes>"
            ]
          },
          "metadata": {
            "tags": [],
            "needs_background": "light"
          }
        },
        {
          "output_type": "display_data",
          "data": {
            "image/png": "[encoded data removed]",
            "text/plain": [
              "<Figure size 432x288 with 1 Axes>"
            ]
          },
          "metadata": {
            "tags": [],
            "needs_background": "light"
          }
        }
      ]
    },
    {
      "cell_type": "code",
      "metadata": {
        "id": "M2j41lgJ0szX",
        "outputId": "4bf0cc92-0a5f-4558-be5e-8e637db2123d",
        "colab": {
          "base_uri": "https://localhost:8080/",
          "height": 34
        }
      },
      "source": [
        "seed_text = \"Кек\"\n",
        "next_words = 11\n",
        "  \n",
        "  \n",
        "for _ in range(next_words):\n",
        "\ttoken_list = tokenizer.texts_to_sequences([seed_text])[0]\n",
        "\ttoken_list = pad_sequences([token_list], maxlen=max_seq_len-1, padding='pre')\n",
        "\tpredicted = model.predict_classes(token_list, verbose=0)\n",
        "\toutput_word = \"\"\n",
        "\tfor word, index in tokenizer.word_index.items():\n",
        "\t\tif index == predicted:\n",
        "\t\t\toutput_word = word\n",
        "\t\t\tbreak\n",
        "\tseed_text += \" \" + output_word\n",
        "print(seed_text)"
      ],
      "execution_count": 224,
      "outputs": [
        {
          "output_type": "stream",
          "text": [
            "Кек я не минздрав предупреждать не буду потому что я попугай нужно\n"
          ],
          "name": "stdout"
        }
      ]
    },
    {
      "cell_type": "code",
      "metadata": {
        "id": "3SZgs75KJdUS"
      },
      "source": [
        "model.save('quote_mode.h5')"
      ],
      "execution_count": 219,
      "outputs": []
    },
    {
      "cell_type": "code",
      "metadata": {
        "id": "JRGYdVu4Zt4X"
      },
      "source": [
        ""
      ],
      "execution_count": null,
      "outputs": []
    }
  ]
}